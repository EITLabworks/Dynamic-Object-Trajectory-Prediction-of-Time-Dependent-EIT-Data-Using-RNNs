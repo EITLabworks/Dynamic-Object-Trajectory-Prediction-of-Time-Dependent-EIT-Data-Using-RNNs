{
 "cells": [
  {
   "cell_type": "code",
   "execution_count": 2,
   "id": "cebe790d-337e-431c-bdbd-5cdec97dca40",
   "metadata": {},
   "outputs": [],
   "source": [
    "from __future__ import absolute_import, division, print_function\n",
    "import matplotlib.pyplot as plt\n",
    "import numpy as np\n",
    "import pyeit.eit.protocol as protocol\n",
    "import pyeit.mesh as mesh\n",
    "from pyeit.eit.fem import EITForward, Forward\n",
    "from pyeit.eit.interp2d import pdegrad, sim2pts\n",
    "from pyeit.mesh.shape import thorax\n",
    "from pyeit.mesh.wrapper import PyEITAnomaly_Circle\n",
    "import os\n",
    "from tqdm import tqdm\n",
    "import matplotlib.pyplot as plt\n",
    "from matplotlib.patches import Circle\n",
    "from src.util import create_trajectory"
   ]
  },
  {
   "cell_type": "markdown",
   "id": "7c124cc3-ebb9-48ff-b4a3-8eeb5a63c736",
   "metadata": {},
   "source": [
    "## Erstellung der Simulationsdaten"
   ]
  },
  {
   "cell_type": "code",
   "execution_count": 10,
   "id": "cdaac665-0688-420a-8c72-fe40e6f8192d",
   "metadata": {},
   "outputs": [],
   "source": [
    "n_el = 32\n",
    "mesh_obj = mesh.create(n_el, h0=0.05)\n",
    "el_pos = mesh_obj.el_pos                  \n",
    "protocol_obj = protocol.create(n_el, dist_exc=n_el//2, step_meas=1, parser_meas=\"meas_current\")   \n",
    "\n",
    "def calculateData(mesh):\n",
    "    ex_line = protocol_obj.ex_mat[0].ravel() \n",
    "    fwd = Forward(mesh)\n",
    "    f = fwd.solve(ex_line)  \n",
    "    fwd = EITForward(mesh_obj, protocol_obj)\n",
    "    f= np.real(f) \n",
    "    v = fwd.solve_eit(perm=mesh.perm)   \n",
    "    return (f, v)\n",
    "\n",
    "def createAnomaly(traj, num_points, r, r_path, added_noise):\n",
    "\n",
    "    print(f\"Starting createAnomaly with parameters:\")\n",
    "    print(f\"traj: {traj}, num_points: {num_points}, r: {r}, r_path: {r_path}\")\n",
    "    print(f\"added_noise: {added_noise}\")\n",
    "    \n",
    "    center_pos = create_trajectory(traj, r_path, num_points, base_rotations = 25)\n",
    "    \n",
    "    mesh_new_list = []\n",
    "    perm = 0.9\n",
    "    \n",
    "    for i, center in enumerate(tqdm(center_pos, desc=\"Processing points\")):\n",
    "        anomaly = PyEITAnomaly_Circle(center, r=r, perm=perm)\n",
    "        anomaly_mesh = mesh.set_perm(mesh_obj, anomaly=anomaly, background=0.1)\n",
    "            \n",
    "        if added_noise:\n",
    "            anomaly_mesh.perm = anomaly_mesh.perm + np.random.normal(0, 0.05, size=anomaly_mesh.perm_array.shape[0])\n",
    "            \n",
    "        f, v = calculateData(anomaly_mesh)\n",
    "            \n",
    "        mesh_dict = {\n",
    "            \"mesh\": anomaly_mesh,\n",
    "            \"pos\": [center[0], center[1]],\n",
    "            \"radius\": r,\n",
    "            \"perm_init\": perm,\n",
    "            \"f\": f,\n",
    "            \"v\": v,\n",
    "            \"anomaly\": anomaly,\n",
    "        }\n",
    "        mesh_new_list.append(mesh_dict)\n",
    "    \n",
    "    return mesh_new_list"
   ]
  },
  {
   "cell_type": "code",
   "execution_count": 8,
   "id": "cf02a557",
   "metadata": {},
   "outputs": [],
   "source": [
    "def generateData (traj, num_points, r_anomaly, r_path, added_noise, saveData):\n",
    "    \n",
    "    mesh_new_list = createAnomaly(traj, num_points, r_anomaly, r_path, added_noise)\n",
    "    \n",
    "    if saveData: \n",
    "        \n",
    "        base_dataset_folder = \"sim_data\"\n",
    "        os.makedirs(base_dataset_folder, exist_ok=True)\n",
    "\n",
    "        base_name = \"sim_data_set\"\n",
    "        counter = 1\n",
    "        \n",
    "        folder_name = os.path.join(base_dataset_folder, base_name)\n",
    "        \n",
    "        while os.path.exists(folder_name):\n",
    "            \n",
    "            folder_name = os.path.join(base_dataset_folder, f\"{base_name}{counter}\")\n",
    "            \n",
    "            counter += 1\n",
    "        \n",
    "        os.makedirs(folder_name) \n",
    "\n",
    "        lookup_file_path = os.path.join(base_dataset_folder, \"sim_data_log.txt\")\n",
    "       \n",
    "        with open(lookup_file_path, 'a') as f:\n",
    "            f.write(f\"Folder: {folder_name}\\n\")\n",
    "            f.write(f\"Trajectory: {traj}\\n\")\n",
    "            f.write(f\"Number of points: {num_points}\\n\")\n",
    "            f.write(f\"r_anomaly: {r_anomaly}\\n\")\n",
    "            f.write(f\"r_path: {r_path}\\n\")\n",
    "            f.write(f\"added_noise: {added_noise}\\n\")\n",
    "            f.write(\"-\" * 40 + \"\\n\")     \n",
    "      \n",
    "        for i in range(len(mesh_new_list)):\n",
    "            file_path = os.path.join(folder_name, f\"sample_{i:06d}.npz\")  \n",
    "            np.savez(file_path, v=mesh_new_list[i][\"v\"], anomaly=mesh_new_list[i][\"anomaly\"], gamma = mesh_new_list[i][\"mesh\"].perm, pos = mesh_new_list[i][\"pos\"])"
   ]
  },
  {
   "cell_type": "markdown",
   "id": "5ca259ae-ca5c-42b6-9c68-5ab86036a847",
   "metadata": {},
   "source": [
    "## Run simulation and adjust trajectory parameters"
   ]
  },
  {
   "cell_type": "code",
   "execution_count": 9,
   "id": "29da3472",
   "metadata": {},
   "outputs": [
    {
     "name": "stdout",
     "output_type": "stream",
     "text": [
      "Starting createAnomaly with parameters:\n",
      "traj: eight, num_points: 10, r: 0.2, r_path: 0.75\n",
      "added_noise: True\n"
     ]
    },
    {
     "name": "stderr",
     "output_type": "stream",
     "text": [
      "Processing points: 100%|██████████| 10/10 [00:02<00:00,  3.80it/s]\n"
     ]
    }
   ],
   "source": [
    "num_points = 10              \n",
    "r_anomaly = 0.2       \n",
    "r_path = 0.75            \n",
    "traj = \"eight\"  #possible 2D trajectories: \"circle\", \"eight\", \"spiral\", \"polynomial\", \"square\"\n",
    "saveData = True\n",
    "added_noise = True\n",
    "\n",
    "generateData(traj, num_points, r_anomaly, r_path, added_noise, saveData)"
   ]
  }
 ],
 "metadata": {
  "kernelspec": {
   "display_name": "Python 3 (ipykernel)",
   "language": "python",
   "name": "python3"
  },
  "language_info": {
   "codemirror_mode": {
    "name": "ipython",
    "version": 3
   },
   "file_extension": ".py",
   "mimetype": "text/x-python",
   "name": "python",
   "nbconvert_exporter": "python",
   "pygments_lexer": "ipython3",
   "version": "3.12.2"
  }
 },
 "nbformat": 4,
 "nbformat_minor": 5
}
