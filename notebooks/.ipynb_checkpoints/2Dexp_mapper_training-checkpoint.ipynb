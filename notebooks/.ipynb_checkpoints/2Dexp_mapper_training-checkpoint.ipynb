{
 "cells": [
  {
   "cell_type": "code",
   "execution_count": 1,
   "id": "f0857af8-6170-4092-be05-735e61e14e26",
   "metadata": {},
   "outputs": [
    {
     "name": "stderr",
     "output_type": "stream",
     "text": [
      "2025-03-08 11:39:13.364165: E external/local_xla/xla/stream_executor/cuda/cuda_fft.cc:477] Unable to register cuFFT factory: Attempting to register factory for plugin cuFFT when one has already been registered\n",
      "WARNING: All log messages before absl::InitializeLog() is called are written to STDERR\n",
      "E0000 00:00:1741433953.379225 4079027 cuda_dnn.cc:8310] Unable to register cuDNN factory: Attempting to register factory for plugin cuDNN when one has already been registered\n",
      "E0000 00:00:1741433953.383410 4079027 cuda_blas.cc:1418] Unable to register cuBLAS factory: Attempting to register factory for plugin cuBLAS when one has already been registered\n",
      "2025-03-08 11:39:13.398474: I tensorflow/core/platform/cpu_feature_guard.cc:210] This TensorFlow binary is optimized to use available CPU instructions in performance-critical operations.\n",
      "To enable the following instructions: AVX2 FMA, in other operations, rebuild TensorFlow with the appropriate compiler flags.\n",
      "W0000 00:00:1741433963.394214 4079027 gpu_device.cc:2344] Cannot dlopen some GPU libraries. Please make sure the missing libraries mentioned above are installed properly if you would like to use GPU. Follow the guide at https://www.tensorflow.org/install/gpu for how to download and setup the required libraries for your platform.\n",
      "Skipping registering GPU devices...\n"
     ]
    }
   ],
   "source": [
    "from tensorflow.keras.models import load_model\n",
    "from glob import glob\n",
    "import os\n",
    "import random\n",
    "\n",
    "import matplotlib.pyplot as plt\n",
    "import numpy as np\n",
    "import tensorflow as tf\n",
    "from tensorflow.keras.optimizers import Adam\n",
    "from sklearn.model_selection import train_test_split\n",
    "from pyeit.mesh.wrapper import PyEITAnomaly_Circle\n",
    "from src.vae_model import vae_model\n",
    "#from src.lstm_mapper_model import lstm_mapper_model\n",
    "from src.util import (\n",
    "    seq_data, \n",
    "    load_sim_data, \n",
    "    seq_data, \n",
    "    compute_perm_deviation, \n",
    "    calculate_perm_error, \n",
    "    select_random_instances,\n",
    "    plot_boxplot,\n",
    "    mesh_plot_comparisons,\n",
    "    plot_mesh_permarray,\n",
    "    load_exp_data,\n",
    "    plot_mesh\n",
    ")\n",
    "from pyeit import mesh\n",
    "from keras import backend as K\n",
    "import keras_tuner as kt\n",
    "from tensorflow import keras\n",
    "from tensorflow.keras.models import Model\n",
    "from pyeit import mesh\n",
    "from tqdm import tqdm\n",
    "os.environ[\"CUDA_VISIBLE_DEVICES\"] = \"1\""
   ]
  },
  {
   "cell_type": "markdown",
   "id": "b601debf-0f26-47ba-b1eb-88748c4a842e",
   "metadata": {},
   "source": [
    "## Load Data"
   ]
  },
  {
   "cell_type": "code",
   "execution_count": 2,
   "id": "d3e6ceb1-d87a-41e2-9ab8-d1b243c7bc04",
   "metadata": {},
   "outputs": [],
   "source": [
    "def transform_position(position):\n",
    "\n",
    "    center_offset = position[0]\n",
    "    position_centered = position - center_offset\n",
    "    tank_radius = 97      \n",
    "    position_scaled_centered = position_centered / tank_radius\n",
    "    \n",
    "    return position_scaled_centered[1:]\n",
    "\n",
    "def create_anomaly(mesh_obj, x, y, r):\n",
    "\n",
    "    anomaly = [PyEITAnomaly_Circle(center=[x, y], r=r, perm=0.9)]\n",
    "    ms = mesh.set_perm(mesh_obj, anomaly=anomaly, background=0.1)\n",
    "    \n",
    "    return ms\n",
    "    \n",
    "def create_gamma(positions):\n",
    "   \n",
    "    n_el = 32\n",
    "    mesh_obj = mesh.create(n_el, h0=0.05)\n",
    "    gamma_list = []\n",
    "    \n",
    "    for pos in positions:\n",
    "        x, y = pos\n",
    "        ms = create_anomaly(mesh_obj, x, y, 0.15)\n",
    "        gamma_list.append(ms.perm_array)\n",
    "    \n",
    "    return np.array(gamma_list)  \n",
    "\n",
    "def load_2Ddata(file_path, file_name ,use_mean= False):\n",
    "    \n",
    "    print(\"Loading experimental data...\")\n",
    "    voltage, temp, timestamp, position = load_exp_data(file_path, file_name)\n",
    "\n",
    "    print(\"Calculating absolute voltages...\")\n",
    "    voltage_abs = np.abs(voltage)\n",
    "    \n",
    "    print(\"Normalizing data...\")\n",
    "    voltage_normalized = (voltage_abs - np.mean(voltage_abs)) / np.std(voltage_abs)\n",
    "\n",
    "    print(\"Subtracting voltage measurements from empty tank...\")\n",
    "    voltage_diff = voltage_normalized - voltage_normalized[0] \n",
    "    voltage_diff = voltage_diff[1:]\n",
    "    print(\"Size of voltage_diff:\", voltage_diff.shape)\n",
    "    \n",
    "    if use_mean:\n",
    "        print(\"Calculating mean of voltage differences...\")\n",
    "        voltage_diff = np.mean(voltage_diff, axis=1)\n",
    "    \n",
    "    print(\"Transforming position data...\")\n",
    "    trans_pos = transform_position(position)\n",
    "    print(trans_pos.shape)\n",
    " \n",
    "    print(\"Creating gamma...\")\n",
    "    gamma = create_gamma(trans_pos)\n",
    "    print(gamma.shape)\n",
    "    gamma = gamma.reshape(-1, 2840, 1)\n",
    "    \n",
    "    if use_mean:\n",
    "        print(\"Processing sequences with mean...\")\n",
    "        voltage_seq, gamma_seq = seq_data(voltage_diff, gamma, n_seg=4)\n",
    "    else:\n",
    "        print(\"Processing sequences for each measurement...\")\n",
    "        voltage_sequences = []\n",
    "        gamma_sequences = []\n",
    "\n",
    "        for idx in tqdm(range(5), desc=\"Processing measurement sequences\"):\n",
    "            v_seq, g_seq = seq_data(voltage_diff[:, idx, :, :], gamma, n_seg=4)\n",
    "            voltage_sequences.append(v_seq)\n",
    "            gamma_sequences.append(g_seq)\n",
    "            \n",
    "        print(\"Concatenating sequences...\")\n",
    "        voltage_seq = np.concatenate(voltage_sequences, axis=0)\n",
    "        gamma_seq = np.concatenate(gamma_sequences, axis=0)\n",
    "    \n",
    "    print(\"Data loading complete!\")\n",
    "    return voltage_seq, gamma_seq, temp, timestamp\n"
   ]
  },
  {
   "cell_type": "markdown",
   "id": "0e1cd803-71d5-4d4d-bf38-48b9699ff7c8",
   "metadata": {},
   "source": [
    "## Aufrufen der Load Data Function basierend auf den Daten, die man fürs Training nutzen möchte ##"
   ]
  },
  {
   "cell_type": "code",
   "execution_count": 3,
   "id": "25685189-800f-41d9-99ba-6942480f7efe",
   "metadata": {},
   "outputs": [
    {
     "name": "stdout",
     "output_type": "stream",
     "text": [
      "Loading experimental data...\n",
      "Calculating absolute voltages...\n",
      "Normalizing data...\n",
      "Subtracting voltage measurements from empty tank...\n",
      "Size of voltage_diff: (12000, 5, 32, 32)\n",
      "Transforming position data...\n",
      "(12000, 2)\n",
      "Creating gamma...\n",
      "(12000, 2840)\n",
      "Processing sequences for each measurement...\n"
     ]
    },
    {
     "name": "stderr",
     "output_type": "stream",
     "text": [
      "Processing measurement sequences: 100%|██████████| 5/5 [00:03<00:00,  1.47it/s]\n"
     ]
    },
    {
     "name": "stdout",
     "output_type": "stream",
     "text": [
      "Concatenating sequences...\n",
      "Data loading complete!\n"
     ]
    }
   ],
   "source": [
    "voltage, gamma, temp, timestamp = load_2Ddata(\"exp_data_set\", \"exp_data44\") #1.Trainingsdaten\n",
    "#exp_data-set/exp_data44 - Spirale, 12000, 0.75, 15 mm\n",
    "#exp_data_set_2/exp_data36 - Spirale, 12000, 0.75, 10 mm\n",
    "#exp_data_set_2/exp_data17- Rosette, 12000, 15 mm"
   ]
  },
  {
   "cell_type": "code",
   "execution_count": 4,
   "id": "dc6030b4-6d26-46a9-b823-0ab008444b6a",
   "metadata": {},
   "outputs": [],
   "source": [
    "import matplotlib.pyplot as plt\n",
    "import numpy as np\n",
    "from datetime import datetime\n",
    "\n",
    "def plot_temperature_vs_time(time, temp, vertical_line_idx=None,\n",
    "                            title=None, xlabel=\"Time\", ylabel=\"Temperature (°C)\", \n",
    "                            save_path=None):\n",
    "\n",
    "    fig, ax = plt.subplots(figsize=(10, 6))\n",
    "    \n",
    "    ax.plot(time, temp, linestyle='-', color='steelblue', linewidth=1)\n",
    "  \n",
    "    n = len(time)\n",
    "    tick_indices = [\n",
    "        0,                  \n",
    "        n // 4,            \n",
    "        n // 2,            \n",
    "        3 * n // 4,        \n",
    "        n - 1              \n",
    "    ]\n",
    "    \n",
    "    dt = datetime.strptime(time[0], \"%Y-%m-%d %H:%M:%S\")\n",
    "    date_str = dt.strftime(\"%d.%m.%Y\")\n",
    "   \n",
    "    def format_time_with_index(ts, idx):\n",
    "        dt = datetime.strptime(ts, \"%Y-%m-%d %H:%M:%S\")\n",
    "        time_str = dt.strftime(\"%H:%M\")\n",
    "        return f\"{time_str}\\n({idx})\"\n",
    "    \n",
    "    ax.set_xticks([time[i] for i in tick_indices])\n",
    "    ax.set_xticklabels([format_time_with_index(time[i], i) for i in tick_indices])\n",
    "    \n",
    "    if vertical_line_idx is not None and 0 <= vertical_line_idx < len(time):\n",
    "        vertical_line_time = time[vertical_line_idx]\n",
    "        \n",
    "        timestamp_dt = datetime.strptime(vertical_line_time, \"%Y-%m-%d %H:%M:%S\")\n",
    "        timestamp_str = timestamp_dt.strftime(\"%H:%M:%S\")\n",
    "        \n",
    "        ax.axvline(x=vertical_line_time, color='red', linestyle='-', linewidth=2)\n",
    "        \n",
    "        y_range = ax.get_ylim()\n",
    "        y_pos = y_range[0] + (y_range[1] - y_range[0]) * 0.95 \n",
    "        ax.annotate(f't={vertical_line_idx}\\n{timestamp_str}', \n",
    "                   xy=(vertical_line_time, y_pos),\n",
    "                   xytext=(15, 0), \n",
    "                   textcoords='offset points',\n",
    "                   color='red',\n",
    "                   fontweight='bold',\n",
    "                   bbox=dict(boxstyle=\"round,pad=0.3\", fc=\"white\", ec=\"red\", alpha=0.8))\n",
    "    \n",
    "    if title:\n",
    "        ax.set_title(title)\n",
    "    else:\n",
    "        ax.set_title(f\"Temperature Over Time - {date_str}\")\n",
    "    \n",
    "    ax.set_xlabel(xlabel)\n",
    "    ax.set_ylabel(ylabel)\n",
    "    \n",
    "    ax.grid(True, linestyle='--', alpha=0.7)\n",
    "    \n",
    "    plt.tight_layout()\n",
    "    \n",
    "    if save_path:\n",
    "        plt.savefig(save_path)\n",
    "        print(f\"Plot saved to {save_path}\")\n",
    "    \n",
    "    return fig, ax"
   ]
  },
  {
   "cell_type": "code",
   "execution_count": 6,
   "id": "05adbcd8-73b7-432c-bc5e-3b1e4713957c",
   "metadata": {},
   "outputs": [
    {
     "data": {
      "text/plain": [
       "(<Figure size 1000x600 with 1 Axes>,\n",
       " <Axes: title={'center': 'Temperature Over Time - 30.01.2025'}, xlabel='Time', ylabel='Temperature (°C)'>)"
      ]
     },
     "execution_count": 6,
     "metadata": {},
     "output_type": "execute_result"
    },
    {
     "data": {
      "image/png": "[encoded data removed]",
      "text/plain": [
       "<Figure size 1000x600 with 1 Axes>"
      ]
     },
     "metadata": {},
     "output_type": "display_data"
    }
   ],
   "source": [
    "plot_temperature_vs_time(timestamp, temp, vertical_line_idx=None)"
   ]
  },
  {
   "cell_type": "code",
   "execution_count": 4,
   "id": "bdbe330d-e696-490f-9522-b745c96d22be",
   "metadata": {},
   "outputs": [
    {
     "name": "stdout",
     "output_type": "stream",
     "text": [
      "(59980, 2840, 1)\n",
      "(59980, 4, 32, 32)\n"
     ]
    },
    {
     "data": {
      "text/plain": [
       "(None, None)"
      ]
     },
     "execution_count": 4,
     "metadata": {},
     "output_type": "execute_result"
    }
   ],
   "source": [
    "print(gamma.shape), print(voltage.shape)"
   ]
  },
  {
   "cell_type": "code",
   "execution_count": 5,
   "id": "13b361d7-d058-41f7-b79a-bf208f035d74",
   "metadata": {},
   "outputs": [],
   "source": [
    "gamma = gamma.reshape(-1, 2840, 1)"
   ]
  },
  {
   "cell_type": "markdown",
   "id": "c6891d2a-05a2-433c-8112-dc9eb931081c",
   "metadata": {},
   "source": [
    "## Loading VAE Model and generating labels"
   ]
  },
  {
   "cell_type": "code",
   "execution_count": 6,
   "id": "eb28c1e0-3676-46e1-aedf-93264a676d36",
   "metadata": {},
   "outputs": [
    {
     "name": "stdout",
     "output_type": "stream",
     "text": [
      "Gewichte erfolgreich geladen.\n"
     ]
    }
   ],
   "source": [
    "vae = vae_model()  \n",
    "vae.build(input_shape=(None, 2840)) \n",
    "vae.load_weights(\"weights/vae2D_best_6000_new.weights.h5\")\n",
    "print(\"Gewichte erfolgreich geladen.\")"
   ]
  },
  {
   "cell_type": "code",
   "execution_count": 7,
   "id": "d689c484-3ad2-4597-9c56-f2e1806e5484",
   "metadata": {},
   "outputs": [
    {
     "name": "stdout",
     "output_type": "stream",
     "text": [
      "\u001b[1m1875/1875\u001b[0m \u001b[32m━━━━━━━━━━━━━━━━━━━━\u001b[0m\u001b[37m\u001b[0m \u001b[1m18s\u001b[0m 9ms/step\n"
     ]
    }
   ],
   "source": [
    "_, _, latent_rep = vae.encoder.predict(gamma)"
   ]
  },
  {
   "cell_type": "code",
   "execution_count": 8,
   "id": "acb90400-5582-4f8f-9002-06c6628f99c8",
   "metadata": {},
   "outputs": [
    {
     "data": {
      "text/plain": [
       "(59980, 8)"
      ]
     },
     "execution_count": 8,
     "metadata": {},
     "output_type": "execute_result"
    }
   ],
   "source": [
    "latent_rep.shape"
   ]
  },
  {
   "cell_type": "code",
   "execution_count": 9,
   "id": "e2efce34-6208-4e9c-aa1e-59e943356d96",
   "metadata": {},
   "outputs": [
    {
     "data": {
      "text/plain": [
       "(59980, 2840, 1)"
      ]
     },
     "execution_count": 9,
     "metadata": {},
     "output_type": "execute_result"
    }
   ],
   "source": [
    "gamma.shape"
   ]
  },
  {
   "cell_type": "code",
   "execution_count": 10,
   "id": "baddbd96-ce6b-435e-97d6-346806d0c05f",
   "metadata": {},
   "outputs": [
    {
     "data": {
      "text/plain": [
       "(59980, 4, 32, 32)"
      ]
     },
     "execution_count": 10,
     "metadata": {},
     "output_type": "execute_result"
    }
   ],
   "source": [
    "voltage.shape"
   ]
  },
  {
   "cell_type": "markdown",
   "id": "52e406a8-d704-42f6-8a56-b0d41656db6f",
   "metadata": {},
   "source": [
    "## LSTM Mapper Training"
   ]
  },
  {
   "cell_type": "code",
   "execution_count": 11,
   "id": "963c1a85-e28d-44af-928f-8b35c88e6d8d",
   "metadata": {},
   "outputs": [],
   "source": [
    "(\n",
    "    v_train_seq,\n",
    "    v_test_seq,\n",
    "    gamma_train,\n",
    "    gamma_test,\n",
    "    z_train,\n",
    "    z_test,\n",
    ") = train_test_split(\n",
    "    voltage,\n",
    "    gamma,\n",
    "    latent_rep,\n",
    "    test_size=0.1,\n",
    "    shuffle=True,\n",
    "    random_state=42,\n",
    ")"
   ]
  },
  {
   "cell_type": "code",
   "execution_count": 12,
   "id": "9bbff7da-1c54-41e9-8ea3-9d604f51a8c1",
   "metadata": {},
   "outputs": [
    {
     "data": {
      "text/html": [
       "<pre style=\"white-space:pre;overflow-x:auto;line-height:normal;font-family:Menlo,'DejaVu Sans Mono',consolas,'Courier New',monospace\"><span style=\"font-weight: bold\">Model: \"lstm_mapper\"</span>\n",
       "</pre>\n"
      ],
      "text/plain": [
       "\u001b[1mModel: \"lstm_mapper\"\u001b[0m\n"
      ]
     },
     "metadata": {},
     "output_type": "display_data"
    },
    {
     "data": {
      "text/html": [
       "<pre style=\"white-space:pre;overflow-x:auto;line-height:normal;font-family:Menlo,'DejaVu Sans Mono',consolas,'Courier New',monospace\">┏━━━━━━━━━━━━━━━━━━━━━━━━━━━━━━━━━┳━━━━━━━━━━━━━━━━━━━━━━━━┳━━━━━━━━━━━━━━━┓\n",
       "┃<span style=\"font-weight: bold\"> Layer (type)                    </span>┃<span style=\"font-weight: bold\"> Output Shape           </span>┃<span style=\"font-weight: bold\">       Param # </span>┃\n",
       "┡━━━━━━━━━━━━━━━━━━━━━━━━━━━━━━━━━╇━━━━━━━━━━━━━━━━━━━━━━━━╇━━━━━━━━━━━━━━━┩\n",
       "│ input_layer_4 (<span style=\"color: #0087ff; text-decoration-color: #0087ff\">InputLayer</span>)      │ (<span style=\"color: #00d7ff; text-decoration-color: #00d7ff\">None</span>, <span style=\"color: #00af00; text-decoration-color: #00af00\">4</span>, <span style=\"color: #00af00; text-decoration-color: #00af00\">32</span>, <span style=\"color: #00af00; text-decoration-color: #00af00\">32</span>, <span style=\"color: #00af00; text-decoration-color: #00af00\">1</span>)   │             <span style=\"color: #00af00; text-decoration-color: #00af00\">0</span> │\n",
       "├─────────────────────────────────┼────────────────────────┼───────────────┤\n",
       "│ time_distributed                │ (<span style=\"color: #00d7ff; text-decoration-color: #00d7ff\">None</span>, <span style=\"color: #00af00; text-decoration-color: #00af00\">4</span>, <span style=\"color: #00af00; text-decoration-color: #00af00\">15</span>, <span style=\"color: #00af00; text-decoration-color: #00af00\">15</span>, <span style=\"color: #00af00; text-decoration-color: #00af00\">2</span>)   │            <span style=\"color: #00af00; text-decoration-color: #00af00\">20</span> │\n",
       "│ (<span style=\"color: #0087ff; text-decoration-color: #0087ff\">TimeDistributed</span>)               │                        │               │\n",
       "├─────────────────────────────────┼────────────────────────┼───────────────┤\n",
       "│ time_distributed_1              │ (<span style=\"color: #00d7ff; text-decoration-color: #00d7ff\">None</span>, <span style=\"color: #00af00; text-decoration-color: #00af00\">4</span>, <span style=\"color: #00af00; text-decoration-color: #00af00\">7</span>, <span style=\"color: #00af00; text-decoration-color: #00af00\">7</span>, <span style=\"color: #00af00; text-decoration-color: #00af00\">2</span>)     │            <span style=\"color: #00af00; text-decoration-color: #00af00\">38</span> │\n",
       "│ (<span style=\"color: #0087ff; text-decoration-color: #0087ff\">TimeDistributed</span>)               │                        │               │\n",
       "├─────────────────────────────────┼────────────────────────┼───────────────┤\n",
       "│ time_distributed_2              │ (<span style=\"color: #00d7ff; text-decoration-color: #00d7ff\">None</span>, <span style=\"color: #00af00; text-decoration-color: #00af00\">4</span>, <span style=\"color: #00af00; text-decoration-color: #00af00\">98</span>)          │             <span style=\"color: #00af00; text-decoration-color: #00af00\">0</span> │\n",
       "│ (<span style=\"color: #0087ff; text-decoration-color: #0087ff\">TimeDistributed</span>)               │                        │               │\n",
       "├─────────────────────────────────┼────────────────────────┼───────────────┤\n",
       "│ time_distributed_3              │ (<span style=\"color: #00d7ff; text-decoration-color: #00d7ff\">None</span>, <span style=\"color: #00af00; text-decoration-color: #00af00\">4</span>, <span style=\"color: #00af00; text-decoration-color: #00af00\">64</span>)          │         <span style=\"color: #00af00; text-decoration-color: #00af00\">6,336</span> │\n",
       "│ (<span style=\"color: #0087ff; text-decoration-color: #0087ff\">TimeDistributed</span>)               │                        │               │\n",
       "├─────────────────────────────────┼────────────────────────┼───────────────┤\n",
       "│ lstm (<span style=\"color: #0087ff; text-decoration-color: #0087ff\">LSTM</span>)                     │ (<span style=\"color: #00d7ff; text-decoration-color: #00d7ff\">None</span>, <span style=\"color: #00af00; text-decoration-color: #00af00\">4</span>, <span style=\"color: #00af00; text-decoration-color: #00af00\">32</span>)          │        <span style=\"color: #00af00; text-decoration-color: #00af00\">12,416</span> │\n",
       "├─────────────────────────────────┼────────────────────────┼───────────────┤\n",
       "│ lstm_1 (<span style=\"color: #0087ff; text-decoration-color: #0087ff\">LSTM</span>)                   │ (<span style=\"color: #00d7ff; text-decoration-color: #00d7ff\">None</span>, <span style=\"color: #00af00; text-decoration-color: #00af00\">16</span>)             │         <span style=\"color: #00af00; text-decoration-color: #00af00\">3,136</span> │\n",
       "├─────────────────────────────────┼────────────────────────┼───────────────┤\n",
       "│ dense_3 (<span style=\"color: #0087ff; text-decoration-color: #0087ff\">Dense</span>)                 │ (<span style=\"color: #00d7ff; text-decoration-color: #00d7ff\">None</span>, <span style=\"color: #00af00; text-decoration-color: #00af00\">8</span>)              │           <span style=\"color: #00af00; text-decoration-color: #00af00\">136</span> │\n",
       "└─────────────────────────────────┴────────────────────────┴───────────────┘\n",
       "</pre>\n"
      ],
      "text/plain": [
       "┏━━━━━━━━━━━━━━━━━━━━━━━━━━━━━━━━━┳━━━━━━━━━━━━━━━━━━━━━━━━┳━━━━━━━━━━━━━━━┓\n",
       "┃\u001b[1m \u001b[0m\u001b[1mLayer (type)                   \u001b[0m\u001b[1m \u001b[0m┃\u001b[1m \u001b[0m\u001b[1mOutput Shape          \u001b[0m\u001b[1m \u001b[0m┃\u001b[1m \u001b[0m\u001b[1m      Param #\u001b[0m\u001b[1m \u001b[0m┃\n",
       "┡━━━━━━━━━━━━━━━━━━━━━━━━━━━━━━━━━╇━━━━━━━━━━━━━━━━━━━━━━━━╇━━━━━━━━━━━━━━━┩\n",
       "│ input_layer_4 (\u001b[38;5;33mInputLayer\u001b[0m)      │ (\u001b[38;5;45mNone\u001b[0m, \u001b[38;5;34m4\u001b[0m, \u001b[38;5;34m32\u001b[0m, \u001b[38;5;34m32\u001b[0m, \u001b[38;5;34m1\u001b[0m)   │             \u001b[38;5;34m0\u001b[0m │\n",
       "├─────────────────────────────────┼────────────────────────┼───────────────┤\n",
       "│ time_distributed                │ (\u001b[38;5;45mNone\u001b[0m, \u001b[38;5;34m4\u001b[0m, \u001b[38;5;34m15\u001b[0m, \u001b[38;5;34m15\u001b[0m, \u001b[38;5;34m2\u001b[0m)   │            \u001b[38;5;34m20\u001b[0m │\n",
       "│ (\u001b[38;5;33mTimeDistributed\u001b[0m)               │                        │               │\n",
       "├─────────────────────────────────┼────────────────────────┼───────────────┤\n",
       "│ time_distributed_1              │ (\u001b[38;5;45mNone\u001b[0m, \u001b[38;5;34m4\u001b[0m, \u001b[38;5;34m7\u001b[0m, \u001b[38;5;34m7\u001b[0m, \u001b[38;5;34m2\u001b[0m)     │            \u001b[38;5;34m38\u001b[0m │\n",
       "│ (\u001b[38;5;33mTimeDistributed\u001b[0m)               │                        │               │\n",
       "├─────────────────────────────────┼────────────────────────┼───────────────┤\n",
       "│ time_distributed_2              │ (\u001b[38;5;45mNone\u001b[0m, \u001b[38;5;34m4\u001b[0m, \u001b[38;5;34m98\u001b[0m)          │             \u001b[38;5;34m0\u001b[0m │\n",
       "│ (\u001b[38;5;33mTimeDistributed\u001b[0m)               │                        │               │\n",
       "├─────────────────────────────────┼────────────────────────┼───────────────┤\n",
       "│ time_distributed_3              │ (\u001b[38;5;45mNone\u001b[0m, \u001b[38;5;34m4\u001b[0m, \u001b[38;5;34m64\u001b[0m)          │         \u001b[38;5;34m6,336\u001b[0m │\n",
       "│ (\u001b[38;5;33mTimeDistributed\u001b[0m)               │                        │               │\n",
       "├─────────────────────────────────┼────────────────────────┼───────────────┤\n",
       "│ lstm (\u001b[38;5;33mLSTM\u001b[0m)                     │ (\u001b[38;5;45mNone\u001b[0m, \u001b[38;5;34m4\u001b[0m, \u001b[38;5;34m32\u001b[0m)          │        \u001b[38;5;34m12,416\u001b[0m │\n",
       "├─────────────────────────────────┼────────────────────────┼───────────────┤\n",
       "│ lstm_1 (\u001b[38;5;33mLSTM\u001b[0m)                   │ (\u001b[38;5;45mNone\u001b[0m, \u001b[38;5;34m16\u001b[0m)             │         \u001b[38;5;34m3,136\u001b[0m │\n",
       "├─────────────────────────────────┼────────────────────────┼───────────────┤\n",
       "│ dense_3 (\u001b[38;5;33mDense\u001b[0m)                 │ (\u001b[38;5;45mNone\u001b[0m, \u001b[38;5;34m8\u001b[0m)              │           \u001b[38;5;34m136\u001b[0m │\n",
       "└─────────────────────────────────┴────────────────────────┴───────────────┘\n"
      ]
     },
     "metadata": {},
     "output_type": "display_data"
    },
    {
     "data": {
      "text/html": [
       "<pre style=\"white-space:pre;overflow-x:auto;line-height:normal;font-family:Menlo,'DejaVu Sans Mono',consolas,'Courier New',monospace\"><span style=\"font-weight: bold\"> Total params: </span><span style=\"color: #00af00; text-decoration-color: #00af00\">22,082</span> (86.26 KB)\n",
       "</pre>\n"
      ],
      "text/plain": [
       "\u001b[1m Total params: \u001b[0m\u001b[38;5;34m22,082\u001b[0m (86.26 KB)\n"
      ]
     },
     "metadata": {},
     "output_type": "display_data"
    },
    {
     "data": {
      "text/html": [
       "<pre style=\"white-space:pre;overflow-x:auto;line-height:normal;font-family:Menlo,'DejaVu Sans Mono',consolas,'Courier New',monospace\"><span style=\"font-weight: bold\"> Trainable params: </span><span style=\"color: #00af00; text-decoration-color: #00af00\">22,082</span> (86.26 KB)\n",
       "</pre>\n"
      ],
      "text/plain": [
       "\u001b[1m Trainable params: \u001b[0m\u001b[38;5;34m22,082\u001b[0m (86.26 KB)\n"
      ]
     },
     "metadata": {},
     "output_type": "display_data"
    },
    {
     "data": {
      "text/html": [
       "<pre style=\"white-space:pre;overflow-x:auto;line-height:normal;font-family:Menlo,'DejaVu Sans Mono',consolas,'Courier New',monospace\"><span style=\"font-weight: bold\"> Non-trainable params: </span><span style=\"color: #00af00; text-decoration-color: #00af00\">0</span> (0.00 B)\n",
       "</pre>\n"
      ],
      "text/plain": [
       "\u001b[1m Non-trainable params: \u001b[0m\u001b[38;5;34m0\u001b[0m (0.00 B)\n"
      ]
     },
     "metadata": {},
     "output_type": "display_data"
    }
   ],
   "source": [
    "from src.lstm_mapper_model import lstm_mapper2D_model\n",
    "lstm_mapper = mapper_model()\n",
    "lstm_mapper.summary()\n",
    "lstm_mapper.compile(optimizer=\"adam\", loss=\"mse\")\n"
   ]
  },
  {
   "cell_type": "code",
   "execution_count": null,
   "id": "2bcacf82-548e-4c00-ad59-c4cef0306fa6",
   "metadata": {},
   "outputs": [
    {
     "name": "stdout",
     "output_type": "stream",
     "text": [
      "Epoch 1/100\n",
      "\u001b[1m6073/6073\u001b[0m \u001b[32m━━━━━━━━━━━━━━━━━━━━\u001b[0m\u001b[37m\u001b[0m \u001b[1m27s\u001b[0m 4ms/step - loss: 0.4063 - val_loss: 0.1744\n",
      "Epoch 2/100\n",
      "\u001b[1m6073/6073\u001b[0m \u001b[32m━━━━━━━━━━━━━━━━━━━━\u001b[0m\u001b[37m\u001b[0m \u001b[1m23s\u001b[0m 4ms/step - loss: 0.1675 - val_loss: 0.1551\n",
      "Epoch 3/100\n",
      "\u001b[1m6073/6073\u001b[0m \u001b[32m━━━━━━━━━━━━━━━━━━━━\u001b[0m\u001b[37m\u001b[0m \u001b[1m22s\u001b[0m 4ms/step - loss: 0.1556 - val_loss: 0.1524\n",
      "Epoch 4/100\n",
      "\u001b[1m6073/6073\u001b[0m \u001b[32m━━━━━━━━━━━━━━━━━━━━\u001b[0m\u001b[37m\u001b[0m \u001b[1m23s\u001b[0m 4ms/step - loss: 0.1514 - val_loss: 0.1524\n",
      "Epoch 5/100\n",
      "\u001b[1m6073/6073\u001b[0m \u001b[32m━━━━━━━━━━━━━━━━━━━━\u001b[0m\u001b[37m\u001b[0m \u001b[1m23s\u001b[0m 4ms/step - loss: 0.1480 - val_loss: 0.1503\n",
      "Epoch 6/100\n",
      "\u001b[1m6073/6073\u001b[0m \u001b[32m━━━━━━━━━━━━━━━━━━━━\u001b[0m\u001b[37m\u001b[0m \u001b[1m23s\u001b[0m 4ms/step - loss: 0.1462 - val_loss: 0.1484\n",
      "Epoch 7/100\n",
      "\u001b[1m6073/6073\u001b[0m \u001b[32m━━━━━━━━━━━━━━━━━━━━\u001b[0m\u001b[37m\u001b[0m \u001b[1m23s\u001b[0m 4ms/step - loss: 0.1448 - val_loss: 0.1457\n",
      "Epoch 8/100\n",
      "\u001b[1m6073/6073\u001b[0m \u001b[32m━━━━━━━━━━━━━━━━━━━━\u001b[0m\u001b[37m\u001b[0m \u001b[1m23s\u001b[0m 4ms/step - loss: 0.1455 - val_loss: 0.1456\n",
      "Epoch 9/100\n",
      "\u001b[1m6073/6073\u001b[0m \u001b[32m━━━━━━━━━━━━━━━━━━━━\u001b[0m\u001b[37m\u001b[0m \u001b[1m23s\u001b[0m 4ms/step - loss: 0.1430 - val_loss: 0.1470\n",
      "Epoch 10/100\n",
      "\u001b[1m6073/6073\u001b[0m \u001b[32m━━━━━━━━━━━━━━━━━━━━\u001b[0m\u001b[37m\u001b[0m \u001b[1m23s\u001b[0m 4ms/step - loss: 0.1440 - val_loss: 0.1450\n",
      "Epoch 11/100\n",
      "\u001b[1m6073/6073\u001b[0m \u001b[32m━━━━━━━━━━━━━━━━━━━━\u001b[0m\u001b[37m\u001b[0m \u001b[1m30s\u001b[0m 5ms/step - loss: 0.1424 - val_loss: 0.1455\n",
      "Epoch 12/100\n",
      "\u001b[1m6073/6073\u001b[0m \u001b[32m━━━━━━━━━━━━━━━━━━━━\u001b[0m\u001b[37m\u001b[0m \u001b[1m39s\u001b[0m 6ms/step - loss: 0.1428 - val_loss: 0.1462\n",
      "Epoch 13/100\n",
      "\u001b[1m6073/6073\u001b[0m \u001b[32m━━━━━━━━━━━━━━━━━━━━\u001b[0m\u001b[37m\u001b[0m \u001b[1m27s\u001b[0m 4ms/step - loss: 0.1430 - val_loss: 0.1439\n",
      "Epoch 14/100\n",
      "\u001b[1m6073/6073\u001b[0m \u001b[32m━━━━━━━━━━━━━━━━━━━━\u001b[0m\u001b[37m\u001b[0m \u001b[1m27s\u001b[0m 4ms/step - loss: 0.1412 - val_loss: 0.1433\n",
      "Epoch 15/100\n",
      "\u001b[1m6073/6073\u001b[0m \u001b[32m━━━━━━━━━━━━━━━━━━━━\u001b[0m\u001b[37m\u001b[0m \u001b[1m26s\u001b[0m 4ms/step - loss: 0.1409 - val_loss: 0.1434\n",
      "Epoch 16/100\n",
      "\u001b[1m6073/6073\u001b[0m \u001b[32m━━━━━━━━━━━━━━━━━━━━\u001b[0m\u001b[37m\u001b[0m \u001b[1m27s\u001b[0m 4ms/step - loss: 0.1414 - val_loss: 0.1453\n",
      "Epoch 17/100\n",
      "\u001b[1m6073/6073\u001b[0m \u001b[32m━━━━━━━━━━━━━━━━━━━━\u001b[0m\u001b[37m\u001b[0m \u001b[1m27s\u001b[0m 4ms/step - loss: 0.1409 - val_loss: 0.1440\n",
      "Epoch 18/100\n",
      "\u001b[1m6073/6073\u001b[0m \u001b[32m━━━━━━━━━━━━━━━━━━━━\u001b[0m\u001b[37m\u001b[0m \u001b[1m25s\u001b[0m 4ms/step - loss: 0.1418 - val_loss: 0.1440\n",
      "Epoch 19/100\n",
      "\u001b[1m6073/6073\u001b[0m \u001b[32m━━━━━━━━━━━━━━━━━━━━\u001b[0m\u001b[37m\u001b[0m \u001b[1m27s\u001b[0m 4ms/step - loss: 0.1419 - val_loss: 0.1449\n",
      "Epoch 20/100\n",
      "\u001b[1m6073/6073\u001b[0m \u001b[32m━━━━━━━━━━━━━━━━━━━━\u001b[0m\u001b[37m\u001b[0m \u001b[1m27s\u001b[0m 4ms/step - loss: 0.1407 - val_loss: 0.1440\n",
      "Epoch 21/100\n",
      "\u001b[1m6073/6073\u001b[0m \u001b[32m━━━━━━━━━━━━━━━━━━━━\u001b[0m\u001b[37m\u001b[0m \u001b[1m26s\u001b[0m 4ms/step - loss: 0.1420 - val_loss: 0.1439\n",
      "Epoch 22/100\n",
      "\u001b[1m6073/6073\u001b[0m \u001b[32m━━━━━━━━━━━━━━━━━━━━\u001b[0m\u001b[37m\u001b[0m \u001b[1m25s\u001b[0m 4ms/step - loss: 0.1403 - val_loss: 0.1429\n",
      "Epoch 23/100\n",
      "\u001b[1m6073/6073\u001b[0m \u001b[32m━━━━━━━━━━━━━━━━━━━━\u001b[0m\u001b[37m\u001b[0m \u001b[1m27s\u001b[0m 4ms/step - loss: 0.1415 - val_loss: 0.1431\n",
      "Epoch 24/100\n",
      "\u001b[1m6073/6073\u001b[0m \u001b[32m━━━━━━━━━━━━━━━━━━━━\u001b[0m\u001b[37m\u001b[0m \u001b[1m25s\u001b[0m 4ms/step - loss: 0.1408 - val_loss: 0.1431\n",
      "Epoch 25/100\n",
      "\u001b[1m6073/6073\u001b[0m \u001b[32m━━━━━━━━━━━━━━━━━━━━\u001b[0m\u001b[37m\u001b[0m \u001b[1m25s\u001b[0m 4ms/step - loss: 0.1401 - val_loss: 0.1430\n",
      "Epoch 26/100\n",
      "\u001b[1m6073/6073\u001b[0m \u001b[32m━━━━━━━━━━━━━━━━━━━━\u001b[0m\u001b[37m\u001b[0m \u001b[1m25s\u001b[0m 4ms/step - loss: 0.1405 - val_loss: 0.1430\n",
      "Epoch 27/100\n",
      "\u001b[1m6073/6073\u001b[0m \u001b[32m━━━━━━━━━━━━━━━━━━━━\u001b[0m\u001b[37m\u001b[0m \u001b[1m25s\u001b[0m 4ms/step - loss: 0.1402 - val_loss: 0.1435\n",
      "Epoch 28/100\n",
      "\u001b[1m6073/6073\u001b[0m \u001b[32m━━━━━━━━━━━━━━━━━━━━\u001b[0m\u001b[37m\u001b[0m \u001b[1m26s\u001b[0m 4ms/step - loss: 0.1404 - val_loss: 0.1440\n",
      "Epoch 29/100\n",
      "\u001b[1m6073/6073\u001b[0m \u001b[32m━━━━━━━━━━━━━━━━━━━━\u001b[0m\u001b[37m\u001b[0m \u001b[1m25s\u001b[0m 4ms/step - loss: 0.1399 - val_loss: 0.1435\n",
      "Epoch 30/100\n",
      "\u001b[1m6073/6073\u001b[0m \u001b[32m━━━━━━━━━━━━━━━━━━━━\u001b[0m\u001b[37m\u001b[0m \u001b[1m26s\u001b[0m 4ms/step - loss: 0.1394 - val_loss: 0.1437\n",
      "Epoch 31/100\n",
      "\u001b[1m6073/6073\u001b[0m \u001b[32m━━━━━━━━━━━━━━━━━━━━\u001b[0m\u001b[37m\u001b[0m \u001b[1m26s\u001b[0m 4ms/step - loss: 0.1396 - val_loss: 0.1441\n",
      "Epoch 32/100\n",
      "\u001b[1m6073/6073\u001b[0m \u001b[32m━━━━━━━━━━━━━━━━━━━━\u001b[0m\u001b[37m\u001b[0m \u001b[1m26s\u001b[0m 4ms/step - loss: 0.1398 - val_loss: 0.1428\n",
      "Epoch 33/100\n",
      "\u001b[1m6073/6073\u001b[0m \u001b[32m━━━━━━━━━━━━━━━━━━━━\u001b[0m\u001b[37m\u001b[0m \u001b[1m25s\u001b[0m 4ms/step - loss: 0.1398 - val_loss: 0.1424\n",
      "Epoch 34/100\n",
      "\u001b[1m6073/6073\u001b[0m \u001b[32m━━━━━━━━━━━━━━━━━━━━\u001b[0m\u001b[37m\u001b[0m \u001b[1m26s\u001b[0m 4ms/step - loss: 0.1397 - val_loss: 0.1428\n",
      "Epoch 35/100\n",
      "\u001b[1m6073/6073\u001b[0m \u001b[32m━━━━━━━━━━━━━━━━━━━━\u001b[0m\u001b[37m\u001b[0m \u001b[1m26s\u001b[0m 4ms/step - loss: 0.1390 - val_loss: 0.1430\n",
      "Epoch 36/100\n",
      "\u001b[1m6073/6073\u001b[0m \u001b[32m━━━━━━━━━━━━━━━━━━━━\u001b[0m\u001b[37m\u001b[0m \u001b[1m27s\u001b[0m 4ms/step - loss: 0.1399 - val_loss: 0.1426\n",
      "Epoch 37/100\n",
      "\u001b[1m6073/6073\u001b[0m \u001b[32m━━━━━━━━━━━━━━━━━━━━\u001b[0m\u001b[37m\u001b[0m \u001b[1m27s\u001b[0m 4ms/step - loss: 0.1390 - val_loss: 0.1434\n",
      "Epoch 38/100\n",
      "\u001b[1m6073/6073\u001b[0m \u001b[32m━━━━━━━━━━━━━━━━━━━━\u001b[0m\u001b[37m\u001b[0m \u001b[1m26s\u001b[0m 4ms/step - loss: 0.1388 - val_loss: 0.1425\n",
      "Epoch 39/100\n",
      "\u001b[1m6073/6073\u001b[0m \u001b[32m━━━━━━━━━━━━━━━━━━━━\u001b[0m\u001b[37m\u001b[0m \u001b[1m25s\u001b[0m 4ms/step - loss: 0.1396 - val_loss: 0.1428\n",
      "Epoch 40/100\n",
      "\u001b[1m6073/6073\u001b[0m \u001b[32m━━━━━━━━━━━━━━━━━━━━\u001b[0m\u001b[37m\u001b[0m \u001b[1m30s\u001b[0m 5ms/step - loss: 0.1384 - val_loss: 0.1431\n",
      "Epoch 41/100\n",
      "\u001b[1m6073/6073\u001b[0m \u001b[32m━━━━━━━━━━━━━━━━━━━━\u001b[0m\u001b[37m\u001b[0m \u001b[1m29s\u001b[0m 5ms/step - loss: 0.1389 - val_loss: 0.1436\n",
      "Epoch 42/100\n",
      "\u001b[1m6073/6073\u001b[0m \u001b[32m━━━━━━━━━━━━━━━━━━━━\u001b[0m\u001b[37m\u001b[0m \u001b[1m28s\u001b[0m 5ms/step - loss: 0.1388 - val_loss: 0.1429\n",
      "Epoch 43/100\n",
      "\u001b[1m6073/6073\u001b[0m \u001b[32m━━━━━━━━━━━━━━━━━━━━\u001b[0m\u001b[37m\u001b[0m \u001b[1m26s\u001b[0m 4ms/step - loss: 0.1391 - val_loss: 0.1421\n",
      "Epoch 44/100\n",
      "\u001b[1m6073/6073\u001b[0m \u001b[32m━━━━━━━━━━━━━━━━━━━━\u001b[0m\u001b[37m\u001b[0m \u001b[1m27s\u001b[0m 4ms/step - loss: 0.1384 - val_loss: 0.1436\n",
      "Epoch 45/100\n",
      "\u001b[1m6073/6073\u001b[0m \u001b[32m━━━━━━━━━━━━━━━━━━━━\u001b[0m\u001b[37m\u001b[0m \u001b[1m26s\u001b[0m 4ms/step - loss: 0.1390 - val_loss: 0.1434\n",
      "Epoch 46/100\n",
      "\u001b[1m6073/6073\u001b[0m \u001b[32m━━━━━━━━━━━━━━━━━━━━\u001b[0m\u001b[37m\u001b[0m \u001b[1m30s\u001b[0m 5ms/step - loss: 0.1388 - val_loss: 0.1423\n",
      "Epoch 47/100\n",
      "\u001b[1m6073/6073\u001b[0m \u001b[32m━━━━━━━━━━━━━━━━━━━━\u001b[0m\u001b[37m\u001b[0m \u001b[1m30s\u001b[0m 5ms/step - loss: 0.1390 - val_loss: 0.1423\n",
      "Epoch 48/100\n",
      "\u001b[1m1005/6073\u001b[0m \u001b[32m━━━\u001b[0m\u001b[37m━━━━━━━━━━━━━━━━━\u001b[0m \u001b[1m22s\u001b[0m 4ms/step - loss: 0.1382"
     ]
    }
   ],
   "source": [
    "#stop_early = tf.keras.callbacks.EarlyStopping(monitor='val_loss', patience=10)\n",
    "\n",
    "#history_mapper = lstm_mapper.fit(v_train_seq, z_train, epochs=100, batch_size = 8, validation_split = 0.1, callbacks=[stop_early])\n",
    "history_mapper = lstm_mapper.fit(v_train_seq, z_train, epochs=100, batch_size = 8, validation_split = 0.1)"
   ]
  },
  {
   "cell_type": "code",
   "execution_count": null,
   "id": "71388f0d-67d1-4e6b-835d-4c998ae9c9c3",
   "metadata": {},
   "outputs": [],
   "source": [
    "fpath = 'Abbildungen/'  \n",
    "fname = 'loss_curve_LSTM_60000_Spirale_15mm_new_2'\n",
    "\n",
    "plt.figure(figsize=(8, 6))\n",
    "plt.plot(history_mapper.history[\"loss\"], label=\"Training Loss\")\n",
    "plt.plot(history_mapper.history[\"val_loss\"], label=\"Validation Loss\")\n",
    "plt.xlabel(\"Epochs\", fontsize=15)\n",
    "plt.ylabel(\"Loss\", fontsize=15)\n",
    "plt.legend()\n",
    "plt.tight_layout()\n",
    "plt.grid(True, linestyle=':', color='gray', alpha=0.5)\n",
    "\n",
    "plt.savefig(f'{fpath}{fname}.pdf', bbox_inches='tight', dpi=300)\n",
    "plt.show()"
   ]
  },
  {
   "cell_type": "code",
   "execution_count": null,
   "id": "4d0467ce-456d-45ea-bb7c-671b8fcc22c3",
   "metadata": {},
   "outputs": [],
   "source": [
    "weights_dir = \"weights/\"\n",
    "os.makedirs(weights_dir, exist_ok=True)\n",
    "lstm_weights_file = os.path.join(weights_dir, \"lstm_60000_Spirale_15mm_new_2.weights.h5\")\n",
    "lstm_mapper.save_weights(lstm_weights_file)\n",
    "print(f\"Gewichte gespeichert unter: {lstm_weights_file}\")"
   ]
  },
  {
   "cell_type": "raw",
   "id": "e52d13f3-bfaa-4799-b77c-8f46a050c0ad",
   "metadata": {},
   "source": [
    "model_dir = 'model'\n",
    "if not os.path.exists(model_dir):\n",
    "    os.makedirs(model_dir)\n",
    "\n",
    "model_path = os.path.join(model_dir, 'complete_2D_lstm_model.keras')\n",
    "best_model.save(model_path)"
   ]
  },
  {
   "cell_type": "code",
   "execution_count": null,
   "id": "15ce770e-0429-4382-b2ba-a2a30af80562",
   "metadata": {},
   "outputs": [],
   "source": []
  }
 ],
 "metadata": {
  "kernelspec": {
   "display_name": "Python 3 (ipykernel)",
   "language": "python",
   "name": "python3"
  },
  "language_info": {
   "codemirror_mode": {
    "name": "ipython",
    "version": 3
   },
   "file_extension": ".py",
   "mimetype": "text/x-python",
   "name": "python",
   "nbconvert_exporter": "python",
   "pygments_lexer": "ipython3",
   "version": "3.12.2"
  }
 },
 "nbformat": 4,
 "nbformat_minor": 5
}
